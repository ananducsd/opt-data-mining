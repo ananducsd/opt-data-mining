{
 "cells": [
  {
   "cell_type": "code",
   "execution_count": 26,
   "metadata": {
    "collapsed": false
   },
   "outputs": [],
   "source": [
    "from os import path\n",
    "from wordcloud import WordCloud, STOPWORDS\n",
    "import matplotlib.pyplot as plt\n",
    "import random\n",
    "\n",
    "def color_func(word, font_size, position, orientation, random_state=None, **kwargs):\n",
    "    return \"hsl(220, 100%%, %d%%)\" % random.randint(5, 65) #blue\n",
    "    #return \"hsl(0, 0%%, %d%%)\" % random.randint(5, 30) #black\n",
    "\n",
    "def plot_graphs ():\n",
    "    # Remove stop words\n",
    "    stopwords = STOPWORDS.copy()\n",
    "    stop_words = {\"a\",\"an\",\"and\",\"are\",\"as\",\"at\",\"be\",\"by\",\"for\",\"from\",\"has\",\"he\",\"in\",\"is\",\"it\"\n",
    "                  ,\"its\",\"of\",\"on\",\"that\",\"the\",\"to\",\"was\",\"where\",\"will\",\"with\"}\n",
    "    alphabet = {\"A\",\"B\",\"C\",\"D\",\"E\",\"F\",\"G\",\"H\",\"I\",\"J\",\"K\",\"L\",\"M\"\n",
    "                ,\"N\",\"O\",\"P\",\"Q\",\"R\",\"S\",\"T\",\"U\",\"V\",\"W\",\"X\",\"Y\",\"Z\"}\n",
    "    for w in stop_words:\n",
    "         stopwords.add(w)\n",
    "    for w in alphabet:\n",
    "         stopwords.add(w)\n",
    "\n",
    "    # Files path\n",
    "    d = path.join(path.dirname('__file__'))\n",
    "\n",
    "    # ----- positive comments\n",
    "    # Read the whole text.\n",
    "    text = open(path.join(d, 'positive_comments.txt')).read()\n",
    "    # Generate a word cloud image\n",
    "    wordcloud = WordCloud().generate(text)\n",
    "    # take relative word frequencies into account, lower max_font_size\n",
    "    #wc = WordCloud(background_color=\"white\", max_words=10000, stopwords=stopwords, margin=10,random_state=1).generate(text)\n",
    "    wc = WordCloud(background_color=\"white\", max_words=50, stopwords=stopwords, max_font_size=40, relative_scaling=.5).generate(text)\n",
    "    plt.figure()\n",
    "    plt.imshow(wc.recolor(color_func=color_func, random_state=3))\n",
    "\n",
    "\n",
    "    # ----- negative comments\n",
    "    # Read the whole text.\n",
    "    text = open(path.join(d, 'negative_comments.txt')).read()\n",
    "    # Generate a word cloud image\n",
    "    wordcloud = WordCloud().generate(text)\n",
    "    # take relative word frequencies into account, lower max_font_size\n",
    "    #wc = WordCloud(background_color=\"white\", max_words=10000, stopwords=stopwords, margin=10,random_state=1).generate(text)\n",
    "    wc = WordCloud(background_color=\"white\", max_words=50, max_font_size=50, stopwords=stopwords, relative_scaling=.5).generate(text)\n",
    "    plt.figure()\n",
    "    plt.imshow(wc.recolor(color_func=color_func, random_state=3))\n",
    "    plt.axis(\"off\")\n",
    "    # Show images\n",
    "    plt.show()"
   ]
  },
  {
   "cell_type": "code",
   "execution_count": 27,
   "metadata": {
    "collapsed": false
   },
   "outputs": [],
   "source": [
    "from collections import defaultdict\n",
    "import nltk\n",
    "import string\n",
    "from nltk.stem.porter import *\n",
    "from sklearn import linear_model\n",
    "\n",
    "def read(f):\n",
    "    for l in open(f):\n",
    "        yield eval(l)\n",
    "\n",
    "########      Training Word Clouds  ###########\n",
    "########                            ###########\n",
    "positivefile = open('positive_comments.txt', 'w')\n",
    "negativefile = open('negative_comments.txt', 'w')\n",
    "\n",
    "# extracing all the known labels\n",
    "labels = []\n",
    "for l in open('opt_dataset/labels_1-900.txt'):\n",
    "    if(eval(l) == 1):\n",
    "        labels.append(1)\n",
    "    else:\n",
    "        labels.append(0)\n",
    "\n",
    "# Write comments in positive or negative file\n",
    "i = 0\n",
    "for l in read('opt_dataset/opt.json'):\n",
    "    if(labels[i] == 1):\n",
    "        positivefile.write(str(l['comment']) + '\\n')\n",
    "    else:\n",
    "        negativefile.write(str(l['comment']) + '\\n')\n",
    "    i+=1\n",
    "    if (i == len(labels)):\n",
    "        break;\n",
    "        \n",
    "positivefile.close()\n",
    "negativefile.close()\n",
    "\n",
    "#Show word clouds for positive and negative comments\n",
    "plot_graphs()"
   ]
  },
  {
   "cell_type": "code",
   "execution_count": null,
   "metadata": {
    "collapsed": false
   },
   "outputs": [],
   "source": [
    "########      Predicting Word Clouds  ###########\n",
    "########                              ###########\n",
    "positivefile = open('positive_comments.txt', 'w')\n",
    "negativefile = open('negative_comments.txt', 'w')\n",
    "\n",
    "# extracing all the known labels\n",
    "labels = []\n",
    "for l in open('opt_dataset/predicted_1-20000.txt'):\n",
    "    if(eval(l) == 1):\n",
    "        labels.append(1)\n",
    "    else:\n",
    "        labels.append(0)\n",
    "\n",
    "# Write comments in positive or negative file\n",
    "i = 0\n",
    "for l in read('opt_dataset/opt.json'):\n",
    "    if(labels[i] == 1):\n",
    "        positivefile.write(str(l['comment']) + '\\n')\n",
    "    else:\n",
    "        negativefile.write(str(l['comment']) + '\\n')\n",
    "    i+=1\n",
    "    if (i == len(labels)):\n",
    "        break;\n",
    "        \n",
    "positivefile.close()\n",
    "negativefile.close()\n",
    "\n",
    "#Show word clouds for positive and negative comments\n",
    "plot_graphs()"
   ]
  },
  {
   "cell_type": "code",
   "execution_count": null,
   "metadata": {
    "collapsed": true
   },
   "outputs": [],
   "source": []
  },
  {
   "cell_type": "code",
   "execution_count": null,
   "metadata": {
    "collapsed": true
   },
   "outputs": [],
   "source": []
  }
 ],
 "metadata": {
  "kernelspec": {
   "display_name": "Python 2",
   "language": "python",
   "name": "python2"
  },
  "language_info": {
   "codemirror_mode": {
    "name": "ipython",
    "version": 2
   },
   "file_extension": ".py",
   "mimetype": "text/x-python",
   "name": "python",
   "nbconvert_exporter": "python",
   "pygments_lexer": "ipython2",
   "version": "2.7.6"
  }
 },
 "nbformat": 4,
 "nbformat_minor": 0
}
