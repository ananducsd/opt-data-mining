{
 "cells": [
  {
   "cell_type": "code",
   "execution_count": 1,
   "metadata": {
    "collapsed": false
   },
   "outputs": [
    {
     "name": "stdout",
     "output_type": "stream",
     "text": [
      "{'userName': 'Roxanne Liu', 'recievedDate': '11/08/2015', 'docID': 'ICEB-2015-0002-12058', 'comment': 'It is very enssential for America to keep the international students. They are epquiped with skills and knowledge. The development of America relies on talents. Competition should not be the reason to ask them to leave.', 'postedDate': '11/11/2015'}\n",
      "\n"
     ]
    }
   ],
   "source": [
    "def read(f):\n",
    "    for l in open(f):\n",
    "        yield eval(l)\n",
    "        \n",
    "x = open(\"opt_dataset/opt.json\")\n",
    "i = 0\n",
    "training = open(\"opt_dataset/small_opt.json\",'w')\n",
    "\n",
    "for l in x:\n",
    "    if (i>=0) and (i<5000):\n",
    "        training.write(l)\n",
    "        if(i==0):\n",
    "            print l\n",
    "    i += 1\n",
    "training.close()"
   ]
  },
  {
   "cell_type": "code",
   "execution_count": 4,
   "metadata": {
    "collapsed": true
   },
   "outputs": [],
   "source": [
    "from collections import defaultdict\n",
    "import nltk\n",
    "import string\n",
    "from nltk.stem.porter import *\n",
    "from sklearn import linear_model\n",
    "\n",
    "comments = []\n",
    "usernames = []\n",
    "count = 0\n",
    "for i in read('opt_dataset/small_opt.json'):\n",
    "    comments.append(i['comment'])\n",
    "    usernames.append(i['userName'])\n",
    "    "
   ]
  },
  {
   "cell_type": "code",
   "execution_count": 5,
   "metadata": {
    "collapsed": true
   },
   "outputs": [],
   "source": [
    "wordCount = defaultdict(int)\n",
    "punctuation = set(string.punctuation)\n",
    "stemmer = PorterStemmer()\n",
    "\n",
    "for i in comments:\n",
    "    r = ''.join([c for c in i.lower() if not c in punctuation])\n",
    "    for w in r.split():\n",
    "        # w = stemmer.stem(w)\n",
    "        wordCount[w] += 1\n"
   ]
  },
  {
   "cell_type": "code",
   "execution_count": 52,
   "metadata": {
    "collapsed": false
   },
   "outputs": [],
   "source": [
    "labels = []\n",
    "from sets import Set\n",
    "vocab = Set()\n",
    "for i in range(450):\n",
    "    r = ''.join([c for c in comments[i].lower() if not c in punctuation])\n",
    "    for w in r.split():\n",
    "        vocab.add(w)\n",
    "numberpos = 0\n",
    "numberneg = 0\n",
    "for l in open('opt_dataset/labels_1-450.txt'):\n",
    "    if(eval(l) == 1):\n",
    "        labels.append(1)\n",
    "        numberpos += 1\n",
    "    else:\n",
    "        labels.append(0)\n",
    "        numberneg += 1"
   ]
  },
  {
   "cell_type": "code",
   "execution_count": 53,
   "metadata": {
    "collapsed": false
   },
   "outputs": [],
   "source": [
    "# Implementing bernoulli Naive Bayes. Another popular version is multinomial naive bayes\n",
    "pos_wordCount = defaultdict(int)\n",
    "neg_wordCount = defaultdict(int)\n",
    "for w in vocab:\n",
    "    pos_wordCount[w] = 0\n",
    "    neg_wordCount[w] = 0\n",
    "# calculating the probabilites\n",
    "for i in range(450):\n",
    "    r = ''.join([c for c in comments[i].lower() if not c in punctuation])\n",
    "    bag = r.split()\n",
    "    for w in vocab:\n",
    "        if w in bag:\n",
    "            if(labels[i] == 1):\n",
    "                pos_wordCount[w] += 1\n",
    "            else:\n",
    "                neg_wordCount[w] += 1\n",
    "    "
   ]
  },
  {
   "cell_type": "code",
   "execution_count": 64,
   "metadata": {
    "collapsed": false
   },
   "outputs": [],
   "source": [
    "# normalizing, with some kind of smoothing\n",
    "\n",
    "pos_wordprob = defaultdict(float)\n",
    "neg_wordprob = defaultdict(float)\n",
    "\n",
    "for w in vocab:\n",
    "    pos_wordprob[w] = 1.0*(pos_wordCount[w] + 0.01)/(1 + numberpos)\n",
    "    neg_wordprob[w] = 1.0*(neg_wordCount[w] + 0.01)/(1 + numberneg)\n",
    "posprob = numberpos*1.0/(numberpos+numberneg)\n",
    "negprob = numberneg*1.0/(numberpos+numberneg)\n",
    "\n",
    "\n"
   ]
  },
  {
   "cell_type": "code",
   "execution_count": 65,
   "metadata": {
    "collapsed": false
   },
   "outputs": [],
   "source": [
    "import math\n",
    "def predpos(words):\n",
    "    sum = 0.0\n",
    "    for w in vocab:\n",
    "        if(w in words):\n",
    "            sum += math.log(pos_wordprob[w])\n",
    "        else:\n",
    "            sum += math.log(1-pos_wordprob[w])\n",
    "    return math.log(posprob) + sum\n",
    "            \n",
    "def predneg(words):\n",
    "    sum = 0.0\n",
    "    for w in vocab:\n",
    "        if(w in words):\n",
    "            sum += math.log(neg_wordprob[w])\n",
    "        else:\n",
    "            sum += math.log(1-neg_wordprob[w])\n",
    "    return math.log(negprob) + sum\n",
    "            \n",
    "predictions = []            \n",
    "for i in range(450):\n",
    "    r = ''.join([c for c in comments[i].lower() if not c in punctuation])\n",
    "    words = r.split()\n",
    "    if(predpos(words) > predneg(words)):\n",
    "        predictions.append(1)\n",
    "    else:\n",
    "        predictions.append(0)"
   ]
  },
  {
   "cell_type": "code",
   "execution_count": 69,
   "metadata": {
    "collapsed": false
   },
   "outputs": [
    {
     "ename": "SyntaxError",
     "evalue": "invalid syntax (<ipython-input-69-e8f66a691ae8>, line 3)",
     "output_type": "error",
     "traceback": [
      "\u001b[1;36m  File \u001b[1;32m\"<ipython-input-69-e8f66a691ae8>\"\u001b[1;36m, line \u001b[1;32m3\u001b[0m\n\u001b[1;33m    xprint i,comments[i], \"predicted: \", predictions[i], \"Actual:\", labels[i],\"\\n\"\u001b[0m\n\u001b[1;37m           ^\u001b[0m\n\u001b[1;31mSyntaxError\u001b[0m\u001b[1;31m:\u001b[0m invalid syntax\n"
     ]
    }
   ],
   "source": [
    "for i in range(450):\n",
    "    if(predictions[i] != labels[i]):\n",
    "        print i,comments[i], \"predicted: \", predictions[i], \"Actual:\", labels[i],\"\\n\""
   ]
  },
  {
   "cell_type": "code",
   "execution_count": 71,
   "metadata": {
    "collapsed": true
   },
   "outputs": [],
   "source": [
    "# Multinomial naive bayes!\n",
    "\n",
    "pos_wordCount_mult = defaultdict(int)\n",
    "neg_wordCount_mult = defaultdict(int)\n",
    "for w in vocab:\n",
    "    pos_wordCount_mult[w] = 0\n",
    "    neg_wordCount_mult[w] = 0\n",
    "numberpos_mult = 0\n",
    "numberneg_mult = 0\n",
    "# calculating the probabilites\n",
    "for i in range(450):\n",
    "    r = ''.join([c for c in comments[i].lower() if not c in punctuation])\n",
    "    bag = r.split()\n",
    "    for w in bag:\n",
    "        if(labels[i] == 1):\n",
    "            pos_wordCount_mult[w] += 1\n",
    "            numberpos_mult += 1\n",
    "        else:\n",
    "                neg_wordCount_mult[w] += 1\n",
    "                numberneg_mult += 1\n",
    "                \n",
    "pos_wordprob_mult = defaultdict(float)\n",
    "neg_wordprob_mult = defaultdict(float)\n",
    "\n",
    "for w in vocab:\n",
    "    pos_wordprob_mult[w] = 1.0*(pos_wordCount_mult[w] + 1)/(len(vocab) + numberpos_mult)\n",
    "    neg_wordprob_mult[w] = 1.0*(neg_wordCount_mult[w] + 1)/(len(vocab) + numberneg_mult)\n"
   ]
  },
  {
   "cell_type": "code",
   "execution_count": 78,
   "metadata": {
    "collapsed": false
   },
   "outputs": [],
   "source": [
    "import math\n",
    "def predpos_mult(words):\n",
    "    sum = 0.0\n",
    "    for w in words:\n",
    "        if(w in vocab):\n",
    "            sum += math.log(pos_wordprob_mult[w])\n",
    "    return (math.log(posprob) + sum)\n",
    "            \n",
    "def predneg_mult(words):\n",
    "    sum = 0.0\n",
    "    for w in words:\n",
    "        if(w in vocab):\n",
    "            sum += math.log(neg_wordprob_mult[w])\n",
    "    return (math.log(negprob) + sum)\n",
    "            \n",
    "predictions_mult = []            \n",
    "for i in range(450):\n",
    "    r = ''.join([c for c in comments[i].lower() if not c in punctuation])\n",
    "    words = r.split()\n",
    "    if(predpos_mult(words) > predneg_mult(words)):\n",
    "        predictions_mult.append(1)\n",
    "    else:\n",
    "        predictions_mult.append(0)"
   ]
  },
  {
   "cell_type": "code",
   "execution_count": 80,
   "metadata": {
    "collapsed": false
   },
   "outputs": [
    {
     "name": "stdout",
     "output_type": "stream",
     "text": [
      "84 Dear ICEB:  Your proposed rule to expand the Optional Practical Training (OPT) is appalling breach of trust with the American people.  That program is being pushed by greedy US executives who want a flood of cheap young workers so that they can depress wages.  There is no tech worker shortage. There is only a shortage of US companies who want to pay honest rates for talent.  Read this: https://normsaysno.wordpress.com/2015/10/20/dhs-unabashedly-biased-in-its-new-opt-proposal/ predicted:  0 Actual: 0 \n",
      "\n",
      "118 The proposed rule from the Department of Homeland Security to expand the Optional Practical Training program would be a detriment to American tech workers, especially recent college graduates. The program would allow U.S. companies to hire foreign citizens who have been pursuing a degree for at least nine months in the U.S., artificially expanding the pool of available workers for jobs particularly in science, technology, engineering, and mathematics fields. As a result, this would put downward pressure on wages for all tech workers. Furthermore, the program actually gives employers an incentive to hire foreign students instead of American workers because they don't have to pay the employer portion of payroll taxes or a prevailing wage. This rule lines the pockets of greedy business owners at the expense of American workers. Immigration policy should serve in the interests of American workers, not against it.  The Optional Practical Training program allows U.S. employers to hire foreign students for up to 1 year or up to 29 months in certain fields of study. The program was meant to provide foreign students with on-the-job training that would benefit them when they return to their home countries. Instead, this proposed rule, which will extend the program for STEM students to 36 months, would create a bridge to a longer-term work visa and eventual green card. This is a direct violation of the foreign student's pledge when they received their student visa to leave the country upon graduation. With recent college graduates struggling to find work, this is not the time to provide companies with an incentive to hire foreign citizens over U.S. citizens. predicted:  0 Actual: 0 \n",
      "\n",
      "123 See attached file(s) predicted:  0 Actual: 1 \n",
      "\n",
      "126 I oppose the Department of Homeland Security's proposed rule that would expand the Optional Practical Training program. This expansion would allow U.S. tech companies to hire foreign students for up to 3 years and avoid paying their share of payroll taxes, equivalent to 7.65% of the employee's pay. This program creates an incentive for these companies to hire foreign students over qualified Americans and it also could violate the foreign student's pledge when they received their F-1 visa to leave the country after completing their degree. As a recent college graduate, I am struggling to find work and this is not the time to provide companies with an incentive to hire foreign citizens over U.S. citizens. I see foreigners working jobs that I can do. I also have two high school boys in engineering and tech. Companies will hire the cheaper foreign workers over them. Why would you want foreigners taking jobs from citizens of the United States? predicted:  0 Actual: 0 \n",
      "\n",
      "138 It is an outrage that the current administration is siding with foreign workers at the expense of US citizen workers. This rule would encourage companies to fire US citizens in order to hire cheaper foreign-citizen workers. Favoring foreigners over our own citizens who are in need of employment, is a pattern of this administration. I urge you to refuse to fund or implement this hostile rule. predicted:  0 Actual: 0 \n",
      "\n",
      "143 Put American workers first. Enough this crap of hiring foreigners first. predicted:  0 Actual: 0 \n",
      "\n",
      "145 People who misinterpret the 14th Amendment are bleeding hearts like Alan Coombs. Read the Constitution in its true original form to understand its true meaning. Wake up America and TAKE YOUR COUNTRY BACK BEFORE IT'S TOO LATE.  \"SUBJECT TO THE JURISDICTION THEREOF\" is the operative phrase here.  \"All persons born or naturalized in the United States, and subject to the jurisdiction thereof, are citizens of the United States and the State wherein they reside.\" predicted:  0 Actual: 0 \n",
      "\n",
      "146 Stop the insanity.. Americans First.. predicted:  0 Actual: 0 \n",
      "\n",
      "187 The proposed rules are unacceptable and inappropriate. They are unequal, treating brilliant students in non-STEM fields less generously than STEM students. They continue and worsen ongoing harm to US citizen students and professionals, robbing them of internship and training opportunities in a time of unemployment 2-3 times what is typical of historical periods of near-full employment. OPT should be limited to 3 months per degree, with a 21-day transition grace period. F visas should be limited to only the top 1%, and OPT to only the top 1% of that 1%. Similarly, H-1B visas should be limited to the top, the very best 1,000 applicants per year; not those with this degree or that credential, but to the genuinely brightest and most-skilled. And L visas should be restricted to only those with very specialized scientific or technological knowledge, no to any of a wide range of general subject areas, but those in genuine extremely narrow niches within a subject/application area. Stop flooding the zone, and let the flood of the last 50 years subside. predicted:  0 Actual: 0 \n",
      "\n",
      "209 How dare you expand Visas to foreigners/students when Americans cannot find jobs? Did you read Disney is replacing US workers for foreigners partly because of Visas like this? Do you guys want to multiply that?? It seems like you want all Americans to be on welfare, and provide the few jobs available to foreign workers. As a naturalized US citizen I am appalled that you guys are thinking of doing this to native born Americans, and naturalized citizens like myself. predicted:  0 Actual: 0 \n",
      "\n",
      "213 This is very bad step from USCIS/DHS. MS Students (F1) will exploit the job market with FAKE IT Consulting - IT body shopping companies. This is going to impact skilled and ambitious Americans. predicted:  0 Actual: 0 \n",
      "\n",
      "233 Many Americans graduate and have a lot of student loans. They want to work and pay back their loans, but by having to compete with foreign workers this gets harder.  Many Americans would like to be professors but are stuck as adjuncts. Having to compete with foreign teachers does not help these Americans to pay their bills.  America has about 318 million people, and many people are unemployed or underemployed. Why does the government care more about giving foreign people work than in making sure more Americans are working and paying taxes? predicted:  0 Actual: 0 \n",
      "\n",
      "240 Cease and desist! predicted:  0 Actual: 0 \n",
      "\n",
      "252 Recently firms such as Disney and Southern California Edison have replaced American tech workers with foreigners and forced them to train their replacements. Your timing for this proposal could not be more callous and tone deaf.  There are over 2 million unemployed residents of the United States with a bachelor's or higher STEM degree.  There are about 10 million Americans with STEM degrees not working in their specialties, many of whom would return to those fields with appropriate incentives.  The OPT foreign workers will displace graduating Americans who are struggling to repay massive student loans.  By turning the F-1 student visas into 3-year work visas, DHS is doing an end run around Congressional limits on H-1b 3-year work visas. predicted:  0 Actual: 0 \n",
      "\n",
      "258 I oppose the Department of Homeland Security's proposed rule that would expand the Optional Practical Training program. I am sick and tired of the United States federal government putting foreign workers/students ahead of US citizen workers/students. With recent college graduates struggling to find work, this is not the time to provide companies with an incentive to hire foreign citizens over U.S. citizens. It's time for the federal govt to get off the payroll of special interests/corporations and to actually do the right thing. predicted:  0 Actual: 0 \n",
      "\n",
      "314 The Department of Homeland Security's proposed rule to expand the Optional Practical Training program would be a detriment to our country and our college graduates. There will be fewer jobs available for our college graduates who are US Citizens. predicted:  0 Actual: 0 \n",
      "\n",
      "315 My cousin just got laid off again. He has worked over 15 years in all phases of the computer industry. He is a 60 year old Veteran of the Marine Corp. It is not at all appropriate to obtain more foreign workers while qualified American workers go jobless or outside their expertise in less productive work.  There are over 2 million unemployed residents of the United States with a bachelor's or higher STEM degree.  There are about 10 million Americans with STEM degrees not working in their specialties, many of whom would return to those fields with appropriate incentives.  The OPT foreign workers will displace graduating Americans who are struggling to repay massive student loans.  By turning the F-1 student visas into 3-year work visas, DHS is doing an end run around Congressional limits on H-1b 3-year work visas.  There are already over 125,000 workers in OPT programs and over a half million potential foreign workers with F-1 visas, yet Americans who graduate are finding a stagnant job market in STEM fields. predicted:  0 Actual: 0 \n",
      "\n",
      "341 The proposed rule will destroy the job prospects of recent American STEM graduates.  The proposed rule is an assault on American middle class workers.  Expanding OPT eligibility to three years after graduation will increase the labor pool for American tech jobs by hundreds of thousands. That alone will adversely affect job opportunities and wages.  OPT provides significant financial incentives for companies to bypass American workers.  Because OPT workers are technically \"students,\" employers will not be required to pay payroll taxes for these employees. That would save companies about $10,000 a year for each of the three years they employ OPTs.  OPT workers will not have the same rights as other workers to unionize, or to move to different employers.  OPT expansion is a blatant attempt to make an end-run around limits on H-1B visas.  There is no shortage of qualified STEM workers in the U.S. If that were true, wages for such workers would be accelerating rapidly. They're not; wages for STEM workers have been flat for years. The same cannot be said for revenues for big tech employers. Those have been growing rapidly in recent years. predicted:  0 Actual: 0 \n",
      "\n",
      "346 The proposed changes in the OPT would be VERY BAD for American workers, who should be given PRIORITY OVER foreign workers. Too many Americans are ALREADY OUT OF WORK and have the qualifications to fulfill the needed jobs.  Why does the Obama Administration CARE SO LITTLE FOR AMERICAN WORKERS? Further, this proposed change would reduce funds for Social Security while just giving employers more profit. I am for capitalism, but NOT AT AMERICAN WORKERS' EXPENSE.  Thank you. predicted:  0 Actual: 0 \n",
      "\n",
      "359 Start putting U.S. citizens first.  OPT denied American workers more than 430,000 jobs during the years 2009-2013; and OPT removed $4 billion from the Social Security and Medicare trust funds. predicted:  0 Actual: 0 \n",
      "\n",
      "369 Can someone help me understand how this helps real working american citizens? How does it not hurt at least some of those real american citizens seeking these types of jobs? I could care less about how some employer thinks it helps them get cheap, educated labor. We have a crisis in that our educated graduates are already over their heads in dept and under paid due to cheap labor competition. This is a very questionable undertaking via sneaky backdoor policies. This needs to be stopped immediately. Let's make it a referendum item and let american citizens vote on it. What do you think they'd say? At least do a poll for guidance... geez.  Bob Esson predicted:  0 Actual: 0 \n",
      "\n",
      "373 I feel that the proposed rule from the DHS to expand the Optional Practical Training program would be a unfair to American tech workers, especially recent college graduates. The program would allow U.S. companies to hire foreign citizens who have been pursuing a degree for at least nine months in the U.S., artificially expanding the pool of available workers for jobs. As a result, this would encourage lower wages for all tech workers. Furthermore, the program encouraages employers to hire foreign students because they don't have to pay the employer portion of payroll taxes or a prevailing wage. Immigration policy should serve in the interests of American workers, not against it. predicted:  0 Actual: 0 \n",
      "\n",
      "379 See attached file(s) predicted:  0 Actual: 0 \n",
      "\n",
      "382 Hello, any policy that gives non-citizens/foreign/illegal individuals work preference ahead of American citizens/legal immigrants is bad policy and is unpatriotic. I will vote against any person, administration, or legislator that initiates or votes for any policy like this.  AMERICA FIRST predicted:  0 Actual: 0 \n",
      "\n",
      "403 1.\" I oppose the Department of Homeland Security's proposed rule that would expand the Optional Practical Training program. This expansion would allow U.S. tech companies to hire foreign students for up to 3 years and avoid paying their share of payroll taxes, equivalent to 7.65% of the employee's pay. Not only does this program create an incentive for these companies to hire foreign students over qualified Americans, but it also could violate the foreign student's pledge when they received their F-1 visa to leave the country after completing their degree. With recent college graduates struggling to find work, this is not the time to provide companies with an incentive to hire foreign citizens over U.S. citizens.  2.\" The proposed rule from the Department of Homeland Security to expand the Optional Practical Training program would be a detriment to American tech workers, especially recent college graduates. The program would allow U.S. companies to hire foreign citizens who have been pursuing a degree for at least nine months in the U.S., artificially expanding the pool of available workers for jobs particularly in science, technology, engineering, and mathematics fields. As a result, this would put downward pressure on wages for all tech workers. Furthermore, the program actually incentivizes employers to hire foreign students because they don't have to pay the employer portion of payroll taxes or a prevailing wage. Immigration policy should serve in the interests of American workers, not against it.  3.\" The Optional Practical Training program allows U.S. employers to hire foreign students for up to 1 year or up to 29 months in certain fields of study. The program was meant to provide foreign students with on-the-job training that would benefit them when they return to their home countries. Instead, this proposed rule, which will extend the program for STEM students to 36 months, would create a bridge to a longer-term work visa and eventual green card. This is a direct violation of the foreign student's pledge when they received their student visa to leave the country upon graduation. It's hard enough already for American workers, especially recent U.S. graduates, to find work, and this rule would make it even more difficult by adding unnecessary job competition to the mix.  4.\" The Department of Homeland Security's proposed rule to expand the Optional Practical Training program amounts to corporate welfare. The proposed rule would extend the amount of time a foreign student can work in the United States from one year to three years. It artificially expands the pool of available workers, allowing employers to depress wages and avoid paying their share of payroll taxes by hiring foreign workers instead of American workers. This rule lines the pockets of greedy business owners at the expense of American workers.  AND FINALLY-Just when you think this administration has finally reached the last straw of its destruction of its own citizens they add yet another dot to be connected to tell us just who's team The Obama administration is truly on! It certainly is not on our team (The American citizen) this is a total outrage and must be stopped in its tracks. Has this corrupt/anti American administration not done enough damage to this Country? It is way past time for the American people to say \"ENOUGH\"! We need to take back our country and stopping this OPT nonsense is a good place to start!! This country was founded on the principal of a Government \"By The People, For The people and of the people\" Not By the government for the government and of the government, of which, it has now become! predicted:  0 Actual: 0 \n",
      "\n",
      "404 Stop accelerating absorbing high qualified immirgators such international STEM students will not solve inequality of employment but show the indifference and unwise of the U.S.'s attitude to their future potential citizens. predicted:  0 Actual: 0 \n",
      "\n",
      "413 BEFORE _ any outside people are considered, AT.ALL....OUR AMERICAN PEOPLE - MUST BE - COMPLETELY..TAKEN CARE OF. -FIRST ! America needs a INTELLECTUAL LEADER - that knows that AMERICA AND AMERICANS-ONLY- ARE FIRST IN THIS COUNTRY! predicted:  0 Actual: 0 \n",
      "\n",
      "415 Dear Sir, I find it very disturbing that our government is going to allow foreigners to take the jobs of unemployed college graduates and take away jobs from working men and women who are citizens. Also, exactually where are these jobs located and why are they not advertised so Americans can find these jobs? I need a reply to this predicted:  0 Actual: 0 \n",
      "\n",
      "416 Keep Americans in school and lower Immigratin. We don't need Obama violating our laws again! predicted:  0 Actual: 0 \n",
      "\n",
      "417 No tax breaks for companies to hire foreign workers! STOP the MADNESS. predicted:  0 Actual: 0 \n",
      "\n",
      "427 What! Are you kidding me? Giving jobs away to -=Americans! We might as well move ourselves back to where the non-Americams came from. It used to be a privilege to be an American. With all the government assistance to Non-Americansit is more like a curse! If someone comes here illegally, they get all the benefits American citizens are entitled to. If non-Americans go to school in America, legally or illegally, they are given hiring preference over Americans. If Non-Americans come to America and start a business, they are given tax incentives and pay no federal income taxes for several years. If an American wants to start a new business they must pay enough taxes to cover their own taxes plus the taxes of the non-Americans that are not paying taxes!  What a boat load of dung this is. It is high time We The People toss out all of these career politicians that are giving our rights and privileges away to non-Americans and take our country back.  The career politicians can go to Mexico and Taiwan and apply for a job! Good Luck. predicted:  0 Actual: 0 \n",
      "\n",
      "434 DO NOT> THAT IS NOT> pass this bad bill. Plus you people remember NO PAY increase for congress this year because we on SS didn't get one. YOU ALL should see what I have to pay more on !!! My cost have hit high heaven!! predicted:  0 Actual: 0 \n",
      "\n",
      "444 Let us worry about how much they arw spending in the USA first we have sent so many jobs every where and outsourxes all ofour own jobs. So they come over here buying up mom and pop shols Bussiness and American no longer even has a middle class we need to worry about our poor our state's but giverment can not make money that way no to anything that does not benifit American predicted:  0 Actual: 0 \n",
      "\n",
      "445 I oppose the Department of Homeland Security's proposed rule that would expand the Optional Practical Training program. predicted:  0 Actual: 0 \n",
      "\n"
     ]
    }
   ],
   "source": [
    "for i in range(450):\n",
    "    if(predictions_mult[i] == 0):\n",
    "        print i,comments[i], \"predicted: \", predictions_mult[i], \"Actual:\", labels[i],\"\\n\""
   ]
  },
  {
   "cell_type": "code",
   "execution_count": null,
   "metadata": {
    "collapsed": true
   },
   "outputs": [],
   "source": []
  }
 ],
 "metadata": {
  "kernelspec": {
   "display_name": "Python 2",
   "language": "python",
   "name": "python2"
  },
  "language_info": {
   "codemirror_mode": {
    "name": "ipython",
    "version": 2
   },
   "file_extension": ".py",
   "mimetype": "text/x-python",
   "name": "python",
   "nbconvert_exporter": "python",
   "pygments_lexer": "ipython2",
   "version": "2.7.10"
  }
 },
 "nbformat": 4,
 "nbformat_minor": 0
}
