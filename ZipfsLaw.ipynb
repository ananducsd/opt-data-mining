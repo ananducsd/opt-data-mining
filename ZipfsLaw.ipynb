{
 "cells": [
  {
   "cell_type": "code",
   "execution_count": 87,
   "metadata": {
    "collapsed": false
   },
   "outputs": [],
   "source": [
    "from collections import defaultdict\n",
    "import nltk\n",
    "import string\n",
    "from nltk.stem.porter import *\n",
    "from sklearn import linear_model\n",
    "import matplotlib.pyplot  as plt\n",
    "\n",
    "def read(f):\n",
    "    for l in open(f):\n",
    "        yield eval(l)\n",
    "        \n",
    "comments = []\n",
    "for i in read('opt_dataset/opt.json'):\n",
    "    comments.append(i['comment'])\n",
    "    \n",
    "punctuation = set(string.punctuation)\n",
    "stemmer = PorterStemmer()\n",
    "wordCount = defaultdict(int)\n",
    "totalWords = 0\n",
    "for i in range(len(comments)):\n",
    "    r = ''.join([c for c in comments[i].lower() if not c in punctuation])\n",
    "    for w in r.split():\n",
    "        totalWords +=1\n",
    "        w = stemmer.stem(w)\n",
    "        wordCount[w] += 1"
   ]
  },
  {
   "cell_type": "code",
   "execution_count": 115,
   "metadata": {
    "collapsed": false
   },
   "outputs": [
    {
     "name": "stdout",
     "output_type": "stream",
     "text": [
      "Total Words 5251832\n",
      "Unique Words 29237\n",
      "----- Top Words -----\n",
      "the  |  281591\n",
      "to  |  191553\n",
      "and  |  147317\n",
      "of  |  122613\n",
      "in  |  108769\n",
      "student  |  99517\n",
      "a  |  85358\n",
      "for  |  83615\n",
      "us  |  76966\n",
      "is  |  75972\n",
      "thi  |  63116\n",
      "i  |  60421\n",
      "are  |  53233\n",
      "stem  |  53133\n",
      "will  |  51706\n",
      "opt  |  48757\n",
      "it  |  45950\n",
      "that  |  43501\n",
      "intern  |  41297\n",
      "more  |  39584\n"
     ]
    }
   ],
   "source": [
    "# Count Words\n",
    "counts = [(wordCount[w], w) for w in wordCount]\n",
    "counts.sort()\n",
    "counts.reverse()\n",
    "words = [x[1] for x in counts]\n",
    "\n",
    "print \"Total Words\", totalWords\n",
    "print \"Unique Words\", len(wordCount)\n",
    "print \"----- Top Words -----\"\n",
    "\n",
    "# Print top 20 most used words\n",
    "for i in range(20):\n",
    "    print words[i],\" | \", wordCount[words[i]]"
   ]
  },
  {
   "cell_type": "code",
   "execution_count": 118,
   "metadata": {
    "collapsed": false
   },
   "outputs": [],
   "source": [
    "# Number of words count (Data)\n",
    "x1 = [ (i+1) for i in range(len(words)) ]\n",
    "y1 = [ wordCount[words[i]] for i in range(len(words)) ]\n",
    "\n",
    "# Zipfs Law\n",
    "a = 1.1\n",
    "x2 = [ (i+1) for i in range(len(words)) ]\n",
    "y2 = [(wordCount[words[0]] / ((i+1)**a)) for i in range(len(words))]\n",
    "\n",
    "# Plot\n",
    "plt.close('all')\n",
    "fig, ax = plt.subplots()\n",
    "plt.xlabel('Rank', fontsize=12)\n",
    "plt.ylabel('Frequency of occurence', fontsize=12)\n",
    "ax.set_xscale('log', basex=2)\n",
    "ax.set_yscale('log', basey=2)\n",
    "pldata = ax.scatter(x1, y1, color='b', label=\"Data\")\n",
    "plzif = ax.plot(x2, y2, color='r', label=\"Zipf's law, a=1.1\")\n",
    "plt.legend()\n",
    "plt.show()"
   ]
  },
  {
   "cell_type": "code",
   "execution_count": null,
   "metadata": {
    "collapsed": true
   },
   "outputs": [],
   "source": []
  },
  {
   "cell_type": "code",
   "execution_count": null,
   "metadata": {
    "collapsed": true
   },
   "outputs": [],
   "source": []
  }
 ],
 "metadata": {
  "kernelspec": {
   "display_name": "Python 2",
   "language": "python",
   "name": "python2"
  },
  "language_info": {
   "codemirror_mode": {
    "name": "ipython",
    "version": 2
   },
   "file_extension": ".py",
   "mimetype": "text/x-python",
   "name": "python",
   "nbconvert_exporter": "python",
   "pygments_lexer": "ipython2",
   "version": "2.7.6"
  }
 },
 "nbformat": 4,
 "nbformat_minor": 0
}
